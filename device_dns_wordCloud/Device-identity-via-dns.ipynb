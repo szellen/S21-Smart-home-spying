{
 "cells": [
  {
   "cell_type": "markdown",
   "metadata": {},
   "source": [
    "# Part 1: Identify Device via DNS Queries"
   ]
  },
  {
   "cell_type": "markdown",
   "metadata": {},
   "source": [
    "## Load DNS Queries Pcap"
   ]
  },
  {
   "cell_type": "code",
   "execution_count": 81,
   "metadata": {},
   "outputs": [],
   "source": [
    "from pcapfile import savefile\n",
    "from pcapfile.protocols.linklayer import ethernet\n",
    "from pcapfile.protocols.network import ip\n",
    "import re\n",
    "from wordcloud import WordCloud\n",
    "import matplotlib.pyplot as plt\n",
    "import numpy as np\n",
    "\n",
    "\n",
    "filePath=\"C:\\\\Users\\\\szell\\\\uva\\\\2021Spring\\\\network\\\\finalProject\\\\dns\\\\\"\n",
    "file1 = filePath+'dns1.pcap' #data from Auguest\n",
    "file2= filePath+'dns2.pcap' #data from Sepetmber"
   ]
  },
  {
   "cell_type": "markdown",
   "metadata": {},
   "source": [
    "### Load data from Auguest file"
   ]
  },
  {
   "cell_type": "code",
   "execution_count": 3,
   "metadata": {},
   "outputs": [
    {
     "name": "stdout",
     "output_type": "stream",
     "text": [
      "[+] attempting to load C:\\Users\\szell\\uva\\2021Spring\\network\\finalProject\\dns\\dns1.pcap\n",
      "[+] found valid header\n",
      "[+] loaded 1105677 packets\n",
      "[+] finished loading savefile.\n"
     ]
    }
   ],
   "source": [
    "testcap = open(file1, 'rb')\n",
    "raw1 = savefile.load_savefile(testcap, verbose=True)\n",
    "testcap.close()"
   ]
  },
  {
   "cell_type": "code",
   "execution_count": 4,
   "metadata": {},
   "outputs": [
    {
     "name": "stdout",
     "output_type": "stream",
     "text": [
      "[+] attempting to load C:\\Users\\szell\\uva\\2021Spring\\network\\finalProject\\dns\\dns1.pcap\n",
      "[+] found valid header\n",
      "[+] loaded 1105677 packets\n",
      "[+] finished loading savefile.\n"
     ]
    }
   ],
   "source": [
    "testcap = open(file1, 'rb')\n",
    "ip_file1 = savefile.load_savefile(testcap, layers=2, verbose=True)\n",
    "testcap.close()"
   ]
  },
  {
   "cell_type": "markdown",
   "metadata": {},
   "source": [
    "### Load data from Sepetmber file"
   ]
  },
  {
   "cell_type": "code",
   "execution_count": 5,
   "metadata": {},
   "outputs": [
    {
     "name": "stdout",
     "output_type": "stream",
     "text": [
      "[+] attempting to load C:\\Users\\szell\\uva\\2021Spring\\network\\finalProject\\dns\\dns2.pcap\n",
      "[+] found valid header\n",
      "[+] loaded 947872 packets\n",
      "[+] finished loading savefile.\n"
     ]
    }
   ],
   "source": [
    "testcap = open(file2, 'rb')\n",
    "raw2 = savefile.load_savefile(testcap, verbose=True)\n",
    "testcap.close()"
   ]
  },
  {
   "cell_type": "code",
   "execution_count": 6,
   "metadata": {},
   "outputs": [
    {
     "name": "stdout",
     "output_type": "stream",
     "text": [
      "[+] attempting to load C:\\Users\\szell\\uva\\2021Spring\\network\\finalProject\\dns\\dns2.pcap\n",
      "[+] found valid header\n",
      "[+] loaded 947872 packets\n",
      "[+] finished loading savefile.\n"
     ]
    }
   ],
   "source": [
    "testcap = open(file2, 'rb')\n",
    "ip_file2 = savefile.load_savefile(testcap, layers=2, verbose=True)\n",
    "testcap.close()"
   ]
  },
  {
   "cell_type": "markdown",
   "metadata": {},
   "source": [
    "## Main Functions"
   ]
  },
  {
   "cell_type": "code",
   "execution_count": 44,
   "metadata": {},
   "outputs": [],
   "source": [
    "def getPacketByIp(targetIP):\n",
    "    match1 = findMatchPacketIndex(ip_file1, targetIP)\n",
    "    match2 =  findMatchPacketIndex(ip_file2, targetIP)\n",
    "    return match1,match2"
   ]
  },
  {
   "cell_type": "code",
   "execution_count": 45,
   "metadata": {},
   "outputs": [],
   "source": [
    "def createDomainNameToken(packageIDList1,packageIDList2):\n",
    "    wordCloud={}\n",
    "    wordCloud = addToWordCloud(wordCloud,packageIDList1,raw1)\n",
    "    wordCloud = addToWordCloud(wordCloud,packageIDList2,raw2)\n",
    "    return wordCloud"
   ]
  },
  {
   "cell_type": "code",
   "execution_count": 5,
   "metadata": {},
   "outputs": [],
   "source": [
    "def findMatchPacketIndex(ip_file, targetIP):\n",
    "    i = 0\n",
    "    match = []\n",
    "    for packet in ip_file.packets:\n",
    "        try:\n",
    "            if (packet.packet.payload.src == targetIP or packet.packet.payload.dst == targetIP):\n",
    "                match.append(i)\n",
    "            i+=1\n",
    "        except:\n",
    "            pass\n",
    "    return match"
   ]
  },
  {
   "cell_type": "code",
   "execution_count": 47,
   "metadata": {},
   "outputs": [],
   "source": [
    "def addToWordCloud(wordCloud, packageIDList, rawFile):\n",
    "    for i in packageIDList:\n",
    "        s = str(rawFile.packets[i].raw()).split(\"\\\\x\")\n",
    "        for ele in s:\n",
    "            if (len(ele)>4):\n",
    "                ele = re.sub(r'[\\d][\\d]', '', ele)\n",
    "                if (ele in wordCloud):\n",
    "                    wordCloud[ele] = wordCloud.get(ele)+1\n",
    "                else:\n",
    "                    wordCloud[ele] = 1\n",
    "    return wordCloud"
   ]
  },
  {
   "cell_type": "code",
   "execution_count": 48,
   "metadata": {},
   "outputs": [],
   "source": [
    "def Sort_Tuple(tup): \n",
    "    tup.sort(key = lambda x: x[1], reverse = True) \n",
    "    return tup "
   ]
  },
  {
   "cell_type": "code",
   "execution_count": 59,
   "metadata": {},
   "outputs": [],
   "source": [
    "def filterWordCloudByThreshold(wordCloud, ip_trace1, ip_trace2):\n",
    "    threshold = (len(ip_trace1)+len(ip_trace2))/10\n",
    "    return [(k, v) for k, v in wordCloud.items() if v >  threshold]"
   ]
  },
  {
   "cell_type": "code",
   "execution_count": 131,
   "metadata": {},
   "outputs": [],
   "source": [
    "def getWordCloudByIP(ip):\n",
    "    ip_trace1,ip_trace2 = getPacketByIp(ip)\n",
    "    wordCloud = createDomainNameToken(ip_trace1,ip_trace2)\n",
    "    filterWordCloud = filterWordCloudByThreshold(wordCloud, ip_trace1,ip_trace2)\n",
    "\n",
    "    sortedWordCloud = Sort_Tuple(filterWordCloud)\n",
    "    \n",
    "    word_list = []\n",
    "    frequency_list=[]\n",
    "    \n",
    "    for entry in sortedWordCloud:\n",
    "        print (\"freq: \", entry[1], \"\\t word: \", entry[0])\n",
    "        word_list.append(entry[0])\n",
    "        frequency_list.append(entry[1])\n",
    "    \n",
    "    wc_dct = dict(zip(word_list, frequency_list))\n",
    "    return wc_dct"
   ]
  },
  {
   "cell_type": "code",
   "execution_count": 157,
   "metadata": {},
   "outputs": [],
   "source": [
    "def plotAndSave(ip,wc_dct):\n",
    "    fig = WordCloud(width=800, height=400, max_words=20,background_color=\"white\").generate_from_frequencies(wc_dct)\n",
    "    plt.figure()\n",
    "    plt.imshow(fig, interpolation=\"bilinear\")\n",
    "    plt.axis(\"off\")\n",
    "    fig.to_file(\"img/\"+ str(ip).split(\".\")[3] +\".png\")"
   ]
  },
  {
   "cell_type": "markdown",
   "metadata": {},
   "source": [
    "## Extract DNS WordCloud by IP"
   ]
  },
  {
   "cell_type": "code",
   "execution_count": 195,
   "metadata": {},
   "outputs": [
    {
     "name": "stdout",
     "output_type": "stream",
     "text": [
      "freq:  38321 \t word:  com\n",
      "freq:  32085 \t word:  net\n",
      "freq:  24605 \t word:  login\n",
      "freq:  15498 \t word:  bing\n",
      "freq:  15465 \t word:  0etrafficmanager\n",
      "freq:  15252 \t word:  platform\n",
      "freq:  12668 \t word:  rps\n",
      "freq:  11383 \t word:  skype\n",
      "freq:  10403 \t word:  \\rk\n",
      "freq:  10147 \t word:  speech\n",
      "freq:  10147 \t word:  speech-platform-bing-com\n",
      "freq:  10147 \t word:  a-\n",
      "freq:  10147 \t word:  a-msedge\n",
      "freq:  10147 \t word:  0bdual-a-\n",
      "freq:  9942 \t word:  msa\n",
      "freq:  9768 \t word:  live\n",
      "freq:  9768 \t word:  msa\\nmsidentity\n",
      "freq:  8207 \t word:  cloudapp\n",
      "freq:  8085 \t word:  edge\n",
      "freq:  5105 \t word:  \\nwebsockets\n",
      "freq:  5105 \t word:  any\n",
      "freq:  5069 \t word:  akadns6\n",
      "freq:  4880 \t word:  lgin\n"
     ]
    },
    {
     "data": {
      "image/png": "[encoded data removed]",
      "text/plain": [
       "<Figure size 432x288 with 1 Axes>"
      ]
     },
     "metadata": {},
     "output_type": "display_data"
    }
   ],
   "source": [
    "ip = b'192.168.0.45'\n",
    "wc_dct = getWordCloudByIP(ip)\n",
    "savefig = plotAndSave(ip,wc_dct)"
   ]
  }
 ],
 "metadata": {
  "kernelspec": {
   "display_name": "Python 3",
   "language": "python",
   "name": "python3"
  },
  "language_info": {
   "codemirror_mode": {
    "name": "ipython",
    "version": 3
   },
   "file_extension": ".py",
   "mimetype": "text/x-python",
   "name": "python",
   "nbconvert_exporter": "python",
   "pygments_lexer": "ipython3",
   "version": "3.7.4"
  }
 },
 "nbformat": 4,
 "nbformat_minor": 2
}
